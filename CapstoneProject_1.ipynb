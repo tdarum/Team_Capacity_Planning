{
 "cells": [
  {
   "cell_type": "code",
   "execution_count": 72,
   "metadata": {},
   "outputs": [],
   "source": [
    "# Dummy data for two teams\n",
    "team_1 = {\n",
    "    \"1001\": {\"name\": \"Ferzi\", \"workload\": 5, \"tasks\": [{\"name\": \"Task A\", \"workload\": 2}, {\"name\": \"Task B\", \"workload\": 3},], \"capacity\": 15, \"remaining_capacity\":10 },\n",
    "    \"1002\": {\"name\": \"Aries\", \"workload\": 8, \"tasks\": [{\"name\": \"Task C\", \"workload\": 8},], \"capacity\": 10,\"remaining_capacity\":2},\n",
    "    \"1003\": {\"name\": \"Rifqi\", \"workload\": 0, \"tasks\": [], \"capacity\": 12,\"remaining_capacity\":12}\n",
    "}\n",
    "\n",
    "team_2 = {\n",
    "    \"2001\": {\"name\": \"Adit\", \"workload\": 7, \"tasks\": [{\"name\": \"Task X\", \"workload\": 3},{\"name\": \"Task Y\", \"workload\": 4}], \"capacity\": 20,\"remaining_capacity\":13},\n",
    "    \"2002\": {\"name\": \"Valen\", \"workload\": 6, \"tasks\": [{\"name\": \"Task Z\", \"workload\": 6}], \"capacity\": 15,\"remaining_capacity\":9},\n",
    "    \"2003\": {\"name\": \"Edo\", \"workload\": 3, \"tasks\": [{\"name\": \"Task Q\", \"workload\": 3}], \"capacity\": 18,\"remaining_capacity\":15}\n",
    "}"
   ]
  },
  {
   "cell_type": "code",
   "execution_count": 73,
   "metadata": {},
   "outputs": [
    {
     "name": "stdout",
     "output_type": "stream",
     "text": [
      "{'1001': {'name': 'Ferzi', 'workload': 5, 'tasks': [{'name': 'Task A', 'workload': 2}, {'name': 'Task B', 'workload': 3}], 'capacity': 15, 'remaining_capacity': 10}, '1002': {'name': 'Aries', 'workload': 8, 'tasks': [{'name': 'Task C', 'workload': 8}], 'capacity': 10, 'remaining_capacity': 2}, '1003': {'name': 'Rifqi', 'workload': 0, 'tasks': [], 'capacity': 12, 'remaining_capacity': 12}}\n",
      "<class 'dict'>\n",
      "<class 'list'>\n"
     ]
    }
   ],
   "source": [
    "print(team_1)\n",
    "print(type(team_1))\n",
    "print(type(['tasks']))"
   ]
  },
  {
   "cell_type": "code",
   "execution_count": 74,
   "metadata": {},
   "outputs": [],
   "source": [
    "# Print the column names.\n",
    "#print(\"{:<10} {:<10} {:<10} {:<10}\".format('Name', 'Workload', 'Tasks', 'Capacity'))\n",
    "\n",
    "# Print  header\n",
    "def show_tabulate_team(team):\n",
    "    print('+------------+----------+-----------+---------+---------+--------------------')\n",
    "    print('| {:<10} | {:<8} | {:<8} | {:<8} |{:<8} |{:<12} |'.format('Member ID','Name', 'Workload', 'Tasks', 'Capacity','Remaining Capacity'))\n",
    "    print('+------------+----------+-----------+---------+---------+--------------------')\n",
    "\n",
    "    # Print each data item.\n",
    "    for member, val in team.items():\n",
    "        print('| {:<10} | {:<8} | {:<8} | {:<8} |{:<8} |{:<18} |'.format(member,val[\"name\"], val[\"workload\"], len(val[\"tasks\"]), val[\"capacity\"], val[\"remaining_capacity\"]))\n",
    "\n",
    "    # Print the footer\n",
    "    print('+------------+----------+-----------+---------+---------+--------------------')\n",
    "    return\n",
    "\n",
    "#show_tabulate_team(team_2)\n"
   ]
  },
  {
   "cell_type": "code",
   "execution_count": 75,
   "metadata": {},
   "outputs": [],
   "source": [
    "# Calculate team workload\n",
    "def calculate_team_workload(team):\n",
    "    team_workload_update = sum(member[\"workload\"] for member in team.values())\n",
    "    return team_workload_update\n",
    "\n",
    "# Calculate team capacity\n",
    "def calculate_team_capacity(team):\n",
    "    team_capacity_update = sum(member[\"capacity\"] for member in team.values())\n",
    "    return team_capacity_update\n",
    "\n",
    "# Calculate remaining capacity\n",
    "def calculate_remaining_team_capacity(team):\n",
    "    team_remaining_capacity = calculate_team_capacity(team) - calculate_team_workload(team)\n",
    "    return team_remaining_capacity"
   ]
  },
  {
   "cell_type": "code",
   "execution_count": 30,
   "metadata": {},
   "outputs": [
    {
     "data": {
      "text/plain": [
       "24"
      ]
     },
     "execution_count": 30,
     "metadata": {},
     "output_type": "execute_result"
    }
   ],
   "source": [
    "calculate_team_workload(team_1)\n",
    "calculate_remaining_team_capacity(team_1)"
   ]
  },
  {
   "cell_type": "code",
   "execution_count": 76,
   "metadata": {},
   "outputs": [],
   "source": [
    "# Add a team member\n",
    "def add_team_member(team):\n",
    "    member_id = input(\"Enter Member ID: \")\n",
    "    if member_id in team:\n",
    "        print(f\"Member ID {member_id} already exists.\")\n",
    "    else:\n",
    "        name = input(\"Enter Member Name: \")\n",
    "        \n",
    "        capacity = int(input(\"Enter Capacity: \"))\n",
    "        #add remaining capacity here \n",
    "        #-----------------------\n",
    "        team[member_id] = {\"name\": name, \"workload\": 0, \"tasks\": [], \"capacity\": capacity, \"remaining_capacity\": capacity}\n",
    "        #calculcate team workload and capacity\n",
    "        team_workload = calculate_team_workload(team)\n",
    "        team_capacity = calculate_team_capacity(team)\n",
    "        #add team reminaing capacitty\n",
    "        team_remaining_capcity = calculate_remaining_team_capacity(team)\n",
    "        print(f\"Added new member: {name} (ID: {member_id})\")\n",
    "        print(f\"Team workload has been updated to {team_workload}\")\n",
    "        print(f\"Team capacity has been updated to {team_capacity}\")\n",
    "        print(f\"Team remaining capacity has been updated to {team_remaining_capcity}\")"
   ]
  },
  {
   "cell_type": "code",
   "execution_count": 79,
   "metadata": {},
   "outputs": [
    {
     "name": "stdout",
     "output_type": "stream",
     "text": [
      "Added new member: Theresia (ID: 1004)\n",
      "Team workload has been updated to 13\n",
      "Team capacity has been updated to 57\n",
      "Team remaining capacity has been updated to 57\n",
      "+------------+----------+-----------+---------+---------+--------------------\n",
      "| Member ID  | Name     | Workload | Tasks    |Capacity |Remaining Capacity |\n",
      "+------------+----------+-----------+---------+---------+--------------------\n",
      "| 1001       | Ferzi    | 5        | 2        |15       |10                 |\n",
      "| 1002       | Aries    | 8        | 1        |10       |2                  |\n",
      "| 1003       | Rifqi    | 0        | 0        |12       |12                 |\n",
      "| 1004       | Theresia | 0        | 0        |20       |20                 |\n",
      "+------------+----------+-----------+---------+---------+--------------------\n"
     ]
    }
   ],
   "source": [
    "team_input = input(\"Select Team (1/2): \")\n",
    "if team_input == \"1\":\n",
    "    add_team_member(team_1)\n",
    "    show_tabulate_team(team_1)\n",
    "    \n",
    "elif team_input == \"2\":\n",
    "    add_team_member(team_2)\n",
    "    show_tabulate_team(team_2)"
   ]
  },
  {
   "cell_type": "code",
   "execution_count": 80,
   "metadata": {},
   "outputs": [
    {
     "name": "stdout",
     "output_type": "stream",
     "text": [
      "+------------+----------+-----------+---------+---------+--------------------\n",
      "| Member ID  | Name     | Workload | Tasks    |Capacity |Remaining Capacity |\n",
      "+------------+----------+-----------+---------+---------+--------------------\n",
      "| 1001       | Ferzi    | 5        | 2        |15       |10                 |\n",
      "| 1002       | Aries    | 8        | 1        |10       |2                  |\n",
      "| 1003       | Rifqi    | 0        | 0        |12       |12                 |\n",
      "| 1004       | Theresia | 0        | 0        |20       |20                 |\n",
      "+------------+----------+-----------+---------+---------+--------------------\n"
     ]
    }
   ],
   "source": [
    "show_tabulate_team(team_1)"
   ]
  },
  {
   "cell_type": "code",
   "execution_count": 81,
   "metadata": {},
   "outputs": [],
   "source": [
    "# Add a task to a team member, with task name and workload as input\n",
    "def add_task(team, member_id, task_name, task_workload):\n",
    "\n",
    "    if member_id in team:\n",
    "        team[member_id][\"tasks\"].append({\"name\": task_name, \"workload\": task_workload})\n",
    "        #Add the task workload to the member total workload\n",
    "        team[member_id][\"workload\"] += task_workload \n",
    "        \n",
    "        team[member_id][\"remaining_capacity\"] = team[member_id][\"capacity\"] - team[member_id][\"workload\"]\n",
    "        team_workload = calculate_team_workload(team)\n",
    "        team_capacity = calculate_team_capacity(team)\n",
    "        #add team remianing capacity\n",
    "        #add team reminaing capacitty\n",
    "        team_remaining_capcity = calculate_remaining_team_capacity(team)\n",
    "        print(f\"Added task '{task_name}' with workload {task_workload} to {team[member_id]['name']}.\")\n",
    "        print(f\"Team workload is {team_workload}\")\n",
    "        print(f\"Maximum team capacity is  {team_capacity}\")\n",
    "        print(f\"Team remaining capacity has been updated to {team_remaining_capcity}\")\n",
    "    else:\n",
    "        print(f\"Member ID {member_id} not found.\")"
   ]
  },
  {
   "cell_type": "code",
   "execution_count": 82,
   "metadata": {},
   "outputs": [
    {
     "name": "stdout",
     "output_type": "stream",
     "text": [
      "Added task 'Task AB' with workload 5 to Theresia.\n",
      "Team workload is 18\n",
      "Maximum team capacity is  57\n",
      "+------------+----------+-----------+---------+---------+--------------------\n",
      "| Member ID  | Name     | Workload | Tasks    |Capacity |Remaining Capacity |\n",
      "+------------+----------+-----------+---------+---------+--------------------\n",
      "| 1001       | Ferzi    | 5        | 2        |15       |10                 |\n",
      "| 1002       | Aries    | 8        | 1        |10       |2                  |\n",
      "| 1003       | Rifqi    | 0        | 0        |12       |12                 |\n",
      "| 1004       | Theresia | 5        | 1        |20       |15                 |\n",
      "+------------+----------+-----------+---------+---------+--------------------\n"
     ]
    }
   ],
   "source": [
    "#check task\n",
    "add_task(team_1, \"1004\", 'Task AB', 5)\n",
    "show_tabulate_team(team_1)"
   ]
  },
  {
   "cell_type": "code",
   "execution_count": 100,
   "metadata": {},
   "outputs": [],
   "source": [
    "# Function to update a task for a team member\n",
    "def update_task(team, member_id):\n",
    "    if member_id in team:\n",
    "        tasks = team[member_id][\"tasks\"]\n",
    "        \n",
    "        # Check if the member has tasks\n",
    "        if len(tasks) <=0:\n",
    "            print(f\"{team[member_id]['name']} has no tasks.\")\n",
    "            return\n",
    "        \n",
    "        # Show the tasks with the task index\n",
    "        print(f\"Tasks for {team[member_id]['name']}:\")\n",
    "        index = 0\n",
    "        for task in tasks:\n",
    "            print(f\"{index}: Task Name - {task['name']}, Workload - {task['workload']}\")\n",
    "            index += 1  # Increment index\n",
    "        \n",
    "        # Search Task index from member that choosen\n",
    "        #try:\n",
    "        task_index = int(input(\"Enter the index of the task that you want to update: \"))\n",
    "        #except ValueError:\n",
    "        #    print(\"Invalid input. Please enter a valid number.\")\n",
    "        #    return\n",
    "        \n",
    "        # Check if the index is valid\n",
    "        if 0 <= task_index < len(tasks):\n",
    "            old_task = tasks[task_index]\n",
    "            # Get new task details from the user\n",
    "            new_task_name = input(\"Enter the new task name: \")\n",
    "            new_task_workload_input = input(\"Enter the new task workload: \")\n",
    "            #check task\n",
    "            while not new_task_workload_input.isdigit():\n",
    "                print(\"Invalid input for workload. Please enter a valid number.\")\n",
    "                new_task_workload_input = input(\"Enter the new task workload: \")\n",
    "\n",
    "            # Convert the to integer\n",
    "            new_task_workload = int(new_task_workload_input)\n",
    "            # Update the task\n",
    "            tasks[task_index] = {\"name\": new_task_name, \"workload\": new_task_workload}\n",
    "            print(f\"Update task '{old_task['name']}' to '{new_task_name}' for {team[member_id]['name']}.\")\n",
    "            \n",
    "            team_workload = calculate_team_workload(team)\n",
    "            team_capacity = calculate_team_capacity(team)\n",
    "            #add team remianing capacity\n",
    "            #add team reminaing capacitty\n",
    "            team_remaining_capcity = calculate_remaining_team_capacity(team)\n",
    "            #print(f\"Added task '{task_name}' with workload {task_workload} to {team[member_id]['name']}.\")\n",
    "            print(f\"Team workload is {team_workload}\")\n",
    "            print(f\"Maximum team capacity is  {team_capacity}\")\n",
    "            print(f\"Team remaining capacity has been updated to {team_remaining_capcity}\")\n",
    "        else:\n",
    "            print(\"Task is not found.\")\n",
    "    else:\n",
    "        print(f\"Member ID {member_id} not found.\")\n",
    "\n"
   ]
  },
  {
   "cell_type": "code",
   "execution_count": 103,
   "metadata": {},
   "outputs": [
    {
     "name": "stdout",
     "output_type": "stream",
     "text": [
      "Tasks for Theresia:\n",
      "0: Task Name - Task AB, Workload - 8\n",
      "Update task 'Task AB' to 'Task AB' for Theresia.\n",
      "Team workload is 18\n",
      "Maximum team capacity is  57\n",
      "Team remaining capacity has been updated to 39\n"
     ]
    }
   ],
   "source": [
    "update_task(team_1,'1004')"
   ]
  },
  {
   "cell_type": "code",
   "execution_count": 123,
   "metadata": {},
   "outputs": [],
   "source": [
    "# Delete a task from a member with confirmation and task selection\n",
    "def delete_task(team, member_id):\n",
    "    if member_id in team:\n",
    "        member = team[member_id]\n",
    "        \n",
    "        # Check if the member has any tasks\n",
    "        if len(member[\"tasks\"]) == 0:\n",
    "            print(f\"{member['name']} has no tasks to delete.\")\n",
    "            return\n",
    "        \n",
    "        # Display tasks and their indices\n",
    "        print(f\"Tasks for {member['name']} (ID: {member_id}):\")\n",
    "        for i in range(len(member[\"tasks\"])):\n",
    "            task = member[\"tasks\"][i]\n",
    "            print(f\"{i+1}: Task name : {task['name']}, Workload : {task['workload']}\")\n",
    "        \n",
    "        # Ask user to choose a task by index\n",
    "       # try:\n",
    "        task_index = int(input(\"Enter the task number you want to delete: \")) - 1\n",
    "        if task_index < 0 or task_index >= len(member[\"tasks\"]):\n",
    "            print(\"Task number is not found.\")\n",
    "            return\n",
    "       # except ValueError:\n",
    "        #    print(\"Invalid input. Please enter a valid number.\")\n",
    "        #   return\n",
    "\n",
    "        # Confirm deletion\n",
    "        selected_task = member[\"tasks\"][task_index]\n",
    "        confirmation = input(f\"Are you sure you want to delete task '{selected_task['name']}' (yes/no)? \").lower()\n",
    "        \n",
    "        if confirmation == 'yes':\n",
    "            # Delete the task and update workload\n",
    "            member[\"workload\"] -= selected_task[\"workload\"]\n",
    "            del member[\"tasks\"][task_index]\n",
    "            print(f\"Deleted task '{selected_task['name']}' from {member['name']}.\")\n",
    "            team_workload = calculate_team_workload(team)\n",
    "            team_capacity = calculate_team_capacity(team)\n",
    "            #add team remianing capacity\n",
    "            #add team reminaing capacitty\n",
    "            team_remaining_capcity = calculate_remaining_team_capacity(team)\n",
    "            #print(f\"Added task '{task_name}' with workload {task_workload} to {team[member_id]['name']}.\")\n",
    "            print(f\"Team workload is {team_workload}\")\n",
    "            print(f\"Maximum team capacity is  {team_capacity}\")\n",
    "            print(f\"Team remaining capacity has been updated to {team_remaining_capcity}\")\n",
    "        else:\n",
    "            print(\"Task deletion canceled.\")\n",
    "    else:\n",
    "        print(f\"Member ID {member_id} not found.\")\n"
   ]
  },
  {
   "cell_type": "code",
   "execution_count": 124,
   "metadata": {},
   "outputs": [
    {
     "name": "stdout",
     "output_type": "stream",
     "text": [
      "Tasks for Ferzi (ID: 1001):\n",
      "1: Task name : Task A, Workload : 2\n",
      "2: Task name : Task B, Workload : 3\n",
      "3: Task name : Task D, Workload : 4\n",
      "4: Task name : Task E, Workload : 5\n",
      "5: Task name : Task F, Workload : 6\n",
      "6: Task name : Task G, Workload : 8\n",
      "Task number is not found.\n"
     ]
    }
   ],
   "source": [
    "delete_task(team_1,'1001')"
   ]
  },
  {
   "cell_type": "code",
   "execution_count": 113,
   "metadata": {},
   "outputs": [],
   "source": [
    "# Delete a team member with confirmation\n",
    "def delete_team_member(team, member_id):\n",
    "    if member_id in team:\n",
    "        # Display member information and ask for confirmation\n",
    "        print(f\"Member found: {team[member_id]['name']} (ID: {member_id})\")\n",
    "        #input proceed to cancle and the input from user will be change to lower case\n",
    "        confirmation = input(f\"Are you sure you want to delete {team[member_id]['name']} (ID: {member_id})? (yes/no): \").lower()\n",
    "\n",
    "        if confirmation == 'yes':\n",
    "            del team[member_id]\n",
    "            print(f\"Team member with ID {member_id} is deleted.\")\n",
    "            team_workload = calculate_team_workload(team)\n",
    "            team_capacity = calculate_team_capacity(team)\n",
    "            #add team remianing capacity\n",
    "            #add team reminaing capacitty\n",
    "            team_remaining_capcity = calculate_remaining_team_capacity(team)\n",
    "            #print(f\"Added task '{task_name}' with workload {task_workload} to {team[member_id]['name']}.\")\n",
    "            print(f\"Team workload is {team_workload}\")\n",
    "            print(f\"Maximum team capacity is  {team_capacity}\")\n",
    "            print(f\"Team remaining capacity has been updated to {team_remaining_capcity}\")\n",
    "        else:\n",
    "            print(\"Delete canceled.\")\n",
    "    else:\n",
    "        print(f\"Member ID {member_id} not exist or not foundd.\")\n"
   ]
  },
  {
   "cell_type": "code",
   "execution_count": 114,
   "metadata": {},
   "outputs": [
    {
     "name": "stdout",
     "output_type": "stream",
     "text": [
      "Member found: Theresia (ID: 1004)\n",
      "Deleted team member with ID 1004.\n",
      "Team workload is 13\n",
      "Maximum team capacity is  37\n",
      "Team remaining capacity has been updated to 24\n"
     ]
    }
   ],
   "source": [
    "delete_team_member(team_1, '1004')"
   ]
  },
  {
   "cell_type": "code",
   "execution_count": 115,
   "metadata": {},
   "outputs": [
    {
     "name": "stdout",
     "output_type": "stream",
     "text": [
      "+------------+----------+-----------+---------+---------+--------------------\n",
      "| Member ID  | Name     | Workload | Tasks    |Capacity |Remaining Capacity |\n",
      "+------------+----------+-----------+---------+---------+--------------------\n",
      "| 1001       | Ferzi    | 5        | 2        |15       |10                 |\n",
      "| 1002       | Aries    | 8        | 1        |10       |2                  |\n",
      "| 1003       | Rifqi    | 0        | 0        |12       |12                 |\n",
      "+------------+----------+-----------+---------+---------+--------------------\n"
     ]
    }
   ],
   "source": [
    "show_tabulate_team(team_1)"
   ]
  },
  {
   "cell_type": "code",
   "execution_count": 125,
   "metadata": {},
   "outputs": [],
   "source": [
    "# Dummy data for redistributed task\n",
    "team_1 = {\n",
    "    \"1001\": {\"name\": \"Ferzi\", \"workload\": 5, \"tasks\": [{\"name\": \"Task A\", \"workload\": 2}, {\"name\": \"Task B\", \"workload\": 3},{\"name\": \"Task D\", \"workload\": 4},{\"name\": \"Task E\", \"workload\": 5},{\"name\": \"Task F\", \"workload\": 6},{\"name\": \"Task G\", \"workload\": 8}], \"capacity\": 15, \"remaining_capacity\":10 },\n",
    "    \"1002\": {\"name\": \"Aries\", \"workload\": 8, \"tasks\": [{\"name\": \"Task C\", \"workload\": 8},], \"capacity\": 10,\"remaining_capacity\":2},\n",
    "    \"1003\": {\"name\": \"Rifqi\", \"workload\": 0, \"tasks\": [], \"capacity\": 12,\"remaining_capacity\":12},\n",
    "    \"1004 \": {\"name\": \"There\", \"workload\": 5, \"tasks\": [{\"name\": \"Task K\", \"workload\": 5}], \"capacity\": 12,\"remaining_capacity\":7}\n",
    "}\n",
    "\n",
    "team_2 = {\n",
    "    \"2001\": {\"name\": \"Adit\", \"workload\": 7, \"tasks\": [{\"name\": \"Task X\", \"workload\": 3},{\"name\": \"Task Y\", \"workload\": 4}], \"capacity\": 20,\"remaining_capacity\":13},\n",
    "    \"2002\": {\"name\": \"Valen\", \"workload\": 6, \"tasks\": [{\"name\": \"Task Z\", \"workload\": 6}], \"capacity\": 15,\"remaining_capacity\":9},\n",
    "    \"2003\": {\"name\": \"Edo\", \"workload\": 3, \"tasks\": [{\"name\": \"Task Q\", \"workload\": 3}], \"capacity\": 18,\"remaining_capacity\":15}\n",
    "}"
   ]
  },
  {
   "cell_type": "code",
   "execution_count": 126,
   "metadata": {},
   "outputs": [],
   "source": [
    "# Redistribute tasks from one member to another\n",
    "def redistribute_tasks(team, from_member_id, to_member_id):\n",
    "    if from_member_id in team and to_member_id in team:\n",
    "        tasks_to_transfer = team[from_member_id][\"tasks\"]\n",
    "        team[to_member_id][\"tasks\"].extend(tasks_to_transfer)\n",
    "        team[to_member_id][\"workload\"] += len(tasks_to_transfer)\n",
    "        team[from_member_id][\"tasks\"].clear()\n",
    "        team[from_member_id][\"workload\"] = 0\n",
    "        print(f\"Redistributed tasks from {team[from_member_id]['name']} to {team[to_member_id]['name']}.\")\n",
    "    else:\n",
    "        print(\"Invalid member ID(s).\")\n",
    "\n"
   ]
  },
  {
   "cell_type": "code",
   "execution_count": 127,
   "metadata": {},
   "outputs": [],
   "source": [
    "def display_team_and_member_capacity(team, sort_by=\"workload\", reverse=False):\n",
    "    team_capacity = calculate_team_capacity(team)\n",
    "    team_workload = calculate_team_workload(team)\n",
    "    \n",
    "    print(f\"Team Capacity: {team_workload} / {team_capacity}\")\n",
    "    members = sorted(team.items(), key=lambda x: x[1][sort_by], reverse=reverse)\n",
    "    for member_id, member in members:\n",
    "        print(f\"ID: {member_id}, Name: {member['name']}, Workload: {member['workload']}, \"\n",
    "              f\"Capacity: {member['capacity']}, Tasks: {', '.join(member['tasks'])}\")"
   ]
  },
  {
   "cell_type": "code",
   "execution_count": null,
   "metadata": {},
   "outputs": [],
   "source": [
    "#delete task"
   ]
  },
  {
   "cell_type": "code",
   "execution_count": null,
   "metadata": {},
   "outputs": [],
   "source": [
    "#Show"
   ]
  },
  {
   "cell_type": "code",
   "execution_count": 116,
   "metadata": {},
   "outputs": [],
   "source": [
    "def main():\n",
    "    while True:\n",
    "        #print option menu\n",
    "        print(\"1. Add Team Member\")\n",
    "        print(\"2. Add Task\")\n",
    "        print(\"3. Redistribute Tasks\")\n",
    "        print(\"4. Display Team Capacity Overview\")\n",
    "        print(\"5. Delete Team Member\")\n",
    "        print(\"6. Delete Task\")\n",
    "        print(\"7. Update Task\")\n",
    "        print(\"0. Exit\")\n",
    "        choice = input(\"Select menu that you want to choose: \")\n",
    "        \n",
    "        if choice == \"1\":\n",
    "            team_choice = input(\"Select Team (1/2): \")\n",
    "            if team_choice == \"1\":\n",
    "                add_team_member(team_1)\n",
    "                show_tabulate_team(team_1)\n",
    "            elif team_choice == \"2\":\n",
    "                add_team_member(team_2)\n",
    "                show_tabulate_team(team_2)\n",
    "        elif choice == \"2\":\n",
    "            team_choice = input(\"Select Team (1/2): \")\n",
    "            if team_choice == \"1\":\n",
    "                add_task(team_1, member_id, task_name, task_workload)\n",
    "                show_tabulate_team(team_1)\n",
    "            elif team_choice == \"2\":\n",
    "                add_task(team_1, member_id, task_name, task_workload)\n",
    "                show_tabulate_team(team_2)\n",
    "        elif choice == \"3\":\n",
    "            team_choice = input(\"Select Team (1/2): \")\n",
    "            if team_choice == \"1\":\n",
    "                redistribute_tasks(team_1, team_workload_1)\n",
    "            elif team_choice == \"2\":\n",
    "                redistribute_tasks(team_2, team_workload_2)\n",
    "        elif choice == \"4\":\n",
    "            team_choice = input(\"Select Team (1/2): \")\n",
    "            if team_choice == \"1\":\n",
    "                display_team_capacity_overview(team_1, team_workload_1, team_capacity_1)\n",
    "            elif team_choice == \"2\":\n",
    "                display_team_capacity_overview(team_2, team_workload_2, team_capacity_2)\n",
    "        elif choice == \"5\":\n",
    "            team_choice = input(\"Select Team (1/2): \")\n",
    "            member_id = input(\"Enter Member ID : \")\n",
    "            if team_choice == \"1\":\n",
    "                delete_team_member(team_1, member_id)\n",
    "            elif team_choice == \"2\":\n",
    "                delete_team_member(team_1, member_id)\n",
    "        elif choice == \"6\":\n",
    "            team_choice = input(\"Select Team (1/2): \")\n",
    "            member_id = input(\"Enter Member ID : \")\n",
    "            if team_choice == \"1\":\n",
    "                delete_task(team_2, member_id)\n",
    "            elif team_choice == \"2\":\n",
    "                delete_task(team_2, member_id)\n",
    "        elif choice == \"7\":\n",
    "            team_choice = input(\"Select Team (1/2): \")\n",
    "            member_id = input(\"Enter Member ID : \")\n",
    "            if team_choice == \"1\":\n",
    "                update_task(team_1, member_id)\n",
    "                #update_task(team_1)\n",
    "            elif team_choice == \"2\":\n",
    "                update_task(team_1, member_id)\n",
    "        elif choice == \"0\":\n",
    "            break\n",
    "        else:\n",
    "            print(\"Invalid option, please choose 0-7.\\n\")"
   ]
  },
  {
   "cell_type": "code",
   "execution_count": 25,
   "metadata": {},
   "outputs": [
    {
     "name": "stdout",
     "output_type": "stream",
     "text": [
      "1. Add Team Member\n",
      "2. Add Task\n",
      "3. Redistribute Tasks\n",
      "4. Display Team Capacity Overview\n",
      "5. Delete Team Member\n",
      "6. Delete Task\n",
      "7. Update Task\n",
      "0. Exit\n"
     ]
    }
   ],
   "source": [
    "main()"
   ]
  },
  {
   "cell_type": "code",
   "execution_count": 11,
   "metadata": {},
   "outputs": [
    {
     "ename": "NameError",
     "evalue": "name 'team_workload' is not defined",
     "output_type": "error",
     "traceback": [
      "\u001b[0;31m---------------------------------------------------------------------------\u001b[0m",
      "\u001b[0;31mNameError\u001b[0m                                 Traceback (most recent call last)",
      "Cell \u001b[0;32mIn[11], line 1\u001b[0m\n\u001b[0;32m----> 1\u001b[0m \u001b[38;5;28mprint\u001b[39m(\u001b[38;5;28mtype\u001b[39m(\u001b[43mteam_workload\u001b[49m))\n",
      "\u001b[0;31mNameError\u001b[0m: name 'team_workload' is not defined"
     ]
    }
   ],
   "source": [
    "#print(type(team_workload))"
   ]
  }
 ],
 "metadata": {
  "kernelspec": {
   "display_name": "Python 3",
   "language": "python",
   "name": "python3"
  },
  "language_info": {
   "codemirror_mode": {
    "name": "ipython",
    "version": 3
   },
   "file_extension": ".py",
   "mimetype": "text/x-python",
   "name": "python",
   "nbconvert_exporter": "python",
   "pygments_lexer": "ipython3",
   "version": "3.12.5"
  }
 },
 "nbformat": 4,
 "nbformat_minor": 2
}
