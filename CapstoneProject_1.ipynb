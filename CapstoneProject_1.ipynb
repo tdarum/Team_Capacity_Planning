{
 "cells": [
  {
   "cell_type": "code",
   "execution_count": 165,
   "metadata": {},
   "outputs": [],
   "source": [
    "# Dummy data for two teams\n",
    "team_1 = {\n",
    "    \"1001\": {\"name\": \"Ferzi\", \"workload\": 5, \"tasks\": [{\"name\": \"Task A\", \"workload\": 2}, {\"name\": \"Task B\", \"workload\": 3},], \"capacity\": 15, \"remaining_capacity\":10 },\n",
    "    \"1002\": {\"name\": \"Aries\", \"workload\": 8, \"tasks\": [{\"name\": \"Task C\", \"workload\": 8},], \"capacity\": 10,\"remaining_capacity\":2},\n",
    "    \"1003\": {\"name\": \"Rifqi\", \"workload\": 0, \"tasks\": [], \"capacity\": 12,\"remaining_capacity\":12}\n",
    "}\n",
    "\n",
    "team_2 = {\n",
    "    \"2001\": {\"name\": \"Adit\", \"workload\": 7, \"tasks\": [{\"name\": \"Task X\", \"workload\": 3},{\"name\": \"Task Y\", \"workload\": 4}], \"capacity\": 20,\"remaining_capacity\":13},\n",
    "    \"2002\": {\"name\": \"Valen\", \"workload\": 6, \"tasks\": [{\"name\": \"Task Z\", \"workload\": 6}], \"capacity\": 15,\"remaining_capacity\":9},\n",
    "    \"2003\": {\"name\": \"Edo\", \"workload\": 3, \"tasks\": [{\"name\": \"Task Q\", \"workload\": 3}], \"capacity\": 18,\"remaining_capacity\":15}\n",
    "}"
   ]
  },
  {
   "cell_type": "code",
   "execution_count": 166,
   "metadata": {},
   "outputs": [
    {
     "name": "stdout",
     "output_type": "stream",
     "text": [
      "{'1001': {'name': 'Ferzi', 'workload': 5, 'tasks': [{'name': 'Task A', 'workload': 2}, {'name': 'Task B', 'workload': 3}], 'capacity': 15, 'remaining_capacity': 10}, '1002': {'name': 'Aries', 'workload': 8, 'tasks': [{'name': 'Task C', 'workload': 8}], 'capacity': 10, 'remaining_capacity': 2}, '1003': {'name': 'Rifqi', 'workload': 0, 'tasks': [], 'capacity': 12, 'remaining_capacity': 12}}\n",
      "<class 'dict'>\n",
      "<class 'list'>\n"
     ]
    }
   ],
   "source": [
    "print(team_1)\n",
    "print(type(team_1))\n",
    "print(type(['tasks']))"
   ]
  },
  {
   "cell_type": "code",
   "execution_count": 167,
   "metadata": {},
   "outputs": [],
   "source": [
    "# Print the column names.\n",
    "#print(\"{:<10} {:<10} {:<10} {:<10}\".format('Name', 'Workload', 'Tasks', 'Capacity'))\n",
    "\n",
    "# Print  header\n",
    "def show_tabulate_team(team):\n",
    "    print('+------------+----------+-----------+---------+---------+--------------------')\n",
    "    print('| {:<10} | {:<8} | {:<8} | {:<8} |{:<8} |{:<12} |'.format('Member ID','Name', 'Workload', 'Tasks', 'Capacity','Remaining Capacity'))\n",
    "    print('+------------+----------+-----------+---------+---------+--------------------')\n",
    "\n",
    "    # Print each data item.\n",
    "    for member, val in team.items():\n",
    "        print('| {:<10} | {:<8} | {:<8} | {:<8} |{:<8} |{:<18} |'.format(member,val[\"name\"], val[\"workload\"], len(val[\"tasks\"]), val[\"capacity\"], val[\"remaining_capacity\"]))\n",
    "\n",
    "    # Print the footer\n",
    "    print('+------------+----------+-----------+---------+---------+--------------------')\n",
    "    return\n",
    "\n",
    "#show_tabulate_team(team_2)\n"
   ]
  },
  {
   "cell_type": "code",
   "execution_count": 168,
   "metadata": {},
   "outputs": [],
   "source": [
    "# Calculate team workload\n",
    "def calculate_team_workload(team):\n",
    "    team_workload_update = sum(member[\"workload\"] for member in team.values())\n",
    "    return team_workload_update\n",
    "\n",
    "# Calculate team capacity\n",
    "def calculate_team_capacity(team):\n",
    "    team_capacity_update = sum(member[\"capacity\"] for member in team.values())\n",
    "    return team_capacity_update\n",
    "\n",
    "# Calculate remaining capacity\n",
    "def calculate_remaining_team_capacity(team):\n",
    "    team_remaining_capacity = calculate_team_capacity(team) - calculate_team_workload(team)\n",
    "    return team_remaining_capacity"
   ]
  },
  {
   "cell_type": "code",
   "execution_count": 169,
   "metadata": {},
   "outputs": [
    {
     "data": {
      "text/plain": [
       "24"
      ]
     },
     "execution_count": 169,
     "metadata": {},
     "output_type": "execute_result"
    }
   ],
   "source": [
    "calculate_team_workload(team_1)\n",
    "calculate_remaining_team_capacity(team_1)"
   ]
  },
  {
   "cell_type": "code",
   "execution_count": 76,
   "metadata": {},
   "outputs": [],
   "source": [
    "# Add a team member\n",
    "def add_team_member(team):\n",
    "    member_id = input(\"Enter Member ID: \")\n",
    "    if member_id in team:\n",
    "        print(f\"Member ID {member_id} already exists.\")\n",
    "    else:\n",
    "        name = input(\"Enter Member Name: \")\n",
    "        \n",
    "        capacity = int(input(\"Enter Capacity: \"))\n",
    "        #add remaining capacity here \n",
    "        #-----------------------\n",
    "        team[member_id] = {\"name\": name, \"workload\": 0, \"tasks\": [], \"capacity\": capacity, \"remaining_capacity\": capacity}\n",
    "        #calculcate team workload and capacity\n",
    "        team_workload = calculate_team_workload(team)\n",
    "        team_capacity = calculate_team_capacity(team)\n",
    "        #add team reminaing capacitty\n",
    "        team_remaining_capcity = calculate_remaining_team_capacity(team)\n",
    "        print(f\"Added new member: {name} (ID: {member_id})\")\n",
    "        print(f\"Team workload has been updated to {team_workload}\")\n",
    "        print(f\"Team capacity has been updated to {team_capacity}\")\n",
    "        print(f\"Team remaining capacity has been updated to {team_remaining_capcity}\")"
   ]
  },
  {
   "cell_type": "code",
   "execution_count": 79,
   "metadata": {},
   "outputs": [
    {
     "name": "stdout",
     "output_type": "stream",
     "text": [
      "Added new member: Theresia (ID: 1004)\n",
      "Team workload has been updated to 13\n",
      "Team capacity has been updated to 57\n",
      "Team remaining capacity has been updated to 57\n",
      "+------------+----------+-----------+---------+---------+--------------------\n",
      "| Member ID  | Name     | Workload | Tasks    |Capacity |Remaining Capacity |\n",
      "+------------+----------+-----------+---------+---------+--------------------\n",
      "| 1001       | Ferzi    | 5        | 2        |15       |10                 |\n",
      "| 1002       | Aries    | 8        | 1        |10       |2                  |\n",
      "| 1003       | Rifqi    | 0        | 0        |12       |12                 |\n",
      "| 1004       | Theresia | 0        | 0        |20       |20                 |\n",
      "+------------+----------+-----------+---------+---------+--------------------\n"
     ]
    }
   ],
   "source": [
    "team_input = input(\"Select Team (1/2): \")\n",
    "if team_input == \"1\":\n",
    "    add_team_member(team_1)\n",
    "    show_tabulate_team(team_1)\n",
    "    \n",
    "elif team_input == \"2\":\n",
    "    add_team_member(team_2)\n",
    "    show_tabulate_team(team_2)"
   ]
  },
  {
   "cell_type": "code",
   "execution_count": 80,
   "metadata": {},
   "outputs": [
    {
     "name": "stdout",
     "output_type": "stream",
     "text": [
      "+------------+----------+-----------+---------+---------+--------------------\n",
      "| Member ID  | Name     | Workload | Tasks    |Capacity |Remaining Capacity |\n",
      "+------------+----------+-----------+---------+---------+--------------------\n",
      "| 1001       | Ferzi    | 5        | 2        |15       |10                 |\n",
      "| 1002       | Aries    | 8        | 1        |10       |2                  |\n",
      "| 1003       | Rifqi    | 0        | 0        |12       |12                 |\n",
      "| 1004       | Theresia | 0        | 0        |20       |20                 |\n",
      "+------------+----------+-----------+---------+---------+--------------------\n"
     ]
    }
   ],
   "source": [
    "show_tabulate_team(team_1)"
   ]
  },
  {
   "cell_type": "code",
   "execution_count": 81,
   "metadata": {},
   "outputs": [],
   "source": [
    "# Add a task to a team member, with task name and workload as input\n",
    "def add_task(team, member_id, task_name, task_workload):\n",
    "\n",
    "    if member_id in team:\n",
    "        team[member_id][\"tasks\"].append({\"name\": task_name, \"workload\": task_workload})\n",
    "        #Add the task workload to the member total workload\n",
    "        team[member_id][\"workload\"] += task_workload \n",
    "        \n",
    "        team[member_id][\"remaining_capacity\"] = team[member_id][\"capacity\"] - team[member_id][\"workload\"]\n",
    "        team_workload = calculate_team_workload(team)\n",
    "        team_capacity = calculate_team_capacity(team)\n",
    "        #add team remianing capacity\n",
    "        #add team reminaing capacitty\n",
    "        team_remaining_capcity = calculate_remaining_team_capacity(team)\n",
    "        print(f\"Added task '{task_name}' with workload {task_workload} to {team[member_id]['name']}.\")\n",
    "        print(f\"Team workload is {team_workload}\")\n",
    "        print(f\"Maximum team capacity is  {team_capacity}\")\n",
    "        print(f\"Team remaining capacity has been updated to {team_remaining_capcity}\")\n",
    "    else:\n",
    "        print(f\"Member ID {member_id} not found.\")"
   ]
  },
  {
   "cell_type": "code",
   "execution_count": 82,
   "metadata": {},
   "outputs": [
    {
     "name": "stdout",
     "output_type": "stream",
     "text": [
      "Added task 'Task AB' with workload 5 to Theresia.\n",
      "Team workload is 18\n",
      "Maximum team capacity is  57\n",
      "+------------+----------+-----------+---------+---------+--------------------\n",
      "| Member ID  | Name     | Workload | Tasks    |Capacity |Remaining Capacity |\n",
      "+------------+----------+-----------+---------+---------+--------------------\n",
      "| 1001       | Ferzi    | 5        | 2        |15       |10                 |\n",
      "| 1002       | Aries    | 8        | 1        |10       |2                  |\n",
      "| 1003       | Rifqi    | 0        | 0        |12       |12                 |\n",
      "| 1004       | Theresia | 5        | 1        |20       |15                 |\n",
      "+------------+----------+-----------+---------+---------+--------------------\n"
     ]
    }
   ],
   "source": [
    "#check task\n",
    "add_task(team_1, \"1004\", 'Task AB', 5)\n",
    "show_tabulate_team(team_1)"
   ]
  },
  {
   "cell_type": "code",
   "execution_count": 160,
   "metadata": {},
   "outputs": [],
   "source": [
    "# Function to update a task for a team member\n",
    "def update_task(team, member_id):\n",
    "    if member_id in team:\n",
    "        tasks = team[member_id][\"tasks\"]\n",
    "        \n",
    "        # Check if the member has tasks\n",
    "        if len(tasks) <=0:\n",
    "            print(f\"{team[member_id]['name']} has no tasks.\")\n",
    "            return\n",
    "        \n",
    "        # Show the tasks with the task index\n",
    "        print(f\"Tasks for {team[member_id]['name']}:\")\n",
    "        index = 0\n",
    "        for task in tasks:\n",
    "            print(f\"{index}: Task Name : {task['name']}, Workload : {task['workload']}\")\n",
    "            index += 1  # Increment index\n",
    "        \n",
    "        # Search Task index from member that choosen\n",
    "        #try:\n",
    "        task_index = int(input(\"Enter the index of the task that you want to update: \"))\n",
    "        #except ValueError:\n",
    "        #    print(\"Invalid input. Please enter a valid number.\")\n",
    "        #    return\n",
    "        \n",
    "        # Check if the index is valid\n",
    "        if 0 <= task_index < len(tasks):\n",
    "            old_task = tasks[task_index]\n",
    "            # Get new task details from the user\n",
    "            new_task_name = input(\"Enter the new task name: \")\n",
    "            new_task_workload_input = input(\"Enter the new task workload: \")\n",
    "            #check task\n",
    "            while not new_task_workload_input.isdigit():\n",
    "                print(\"Invalid input for workload. Please enter a valid number.\")\n",
    "                new_task_workload_input = input(\"Enter the new task workload: \")\n",
    "\n",
    "            # Convert the to integer\n",
    "            new_task_workload = int(new_task_workload_input)\n",
    "            # Update the task\n",
    "            tasks[task_index] = {\"name\": new_task_name, \"workload\": new_task_workload}\n",
    "            print(f\"Update task '{old_task['name']}' to '{new_task_name}' for {team[member_id]['name']}.\")\n",
    "            \n",
    "            team_workload = calculate_team_workload(team)\n",
    "            team_capacity = calculate_team_capacity(team)\n",
    "            #add team remianing capacity\n",
    "            #add team reminaing capacitty\n",
    "            team_remaining_capcity = calculate_remaining_team_capacity(team)\n",
    "            #print(f\"Added task '{task_name}' with workload {task_workload} to {team[member_id]['name']}.\")\n",
    "            print(f\"Team workload is {team_workload}\")\n",
    "            print(f\"Maximum team capacity is  {team_capacity}\")\n",
    "            print(f\"Team remaining capacity has been updated to {team_remaining_capcity}\")\n",
    "        else:\n",
    "            print(\"Task is not found.\")\n",
    "    else:\n",
    "        print(f\"Member ID {member_id} not found.\")\n",
    "\n"
   ]
  },
  {
   "cell_type": "code",
   "execution_count": 170,
   "metadata": {},
   "outputs": [
    {
     "name": "stdout",
     "output_type": "stream",
     "text": [
      "Member ID 1004 not found.\n"
     ]
    }
   ],
   "source": [
    "update_task(team_1,'1004')"
   ]
  },
  {
   "cell_type": "code",
   "execution_count": 171,
   "metadata": {},
   "outputs": [],
   "source": [
    "# Delete a task from a member with confirmation and task selection\n",
    "def delete_task(team, member_id):\n",
    "    if member_id in team:\n",
    "        member = team[member_id]\n",
    "        \n",
    "        # Check if the member has any tasks\n",
    "        if len(member[\"tasks\"]) == 0:\n",
    "            print(f\"{member['name']} has no tasks to delete.\")\n",
    "            return\n",
    "        \n",
    "        # Display tasks and their indices\n",
    "        print(f\"Tasks for {member['name']} (ID: {member_id}):\")\n",
    "        for i in range(len(member[\"tasks\"])):\n",
    "            task = member[\"tasks\"][i]\n",
    "            print(f\"{i+1}: Task name : {task['name']}, Workload : {task['workload']}\")\n",
    "        \n",
    "        # Ask user to choose a task by index\n",
    "       # try:\n",
    "        task_index = int(input(\"Enter the task number you want to delete: \")) - 1\n",
    "        if task_index < 0 or task_index >= len(member[\"tasks\"]):\n",
    "            print(\"Task number is not found.\")\n",
    "            return\n",
    "       # except ValueError:\n",
    "        #    print(\"Invalid input. Please enter a valid number.\")\n",
    "        #   return\n",
    "\n",
    "        # Confirm deletion\n",
    "        selected_task = member[\"tasks\"][task_index]\n",
    "        confirmation = input(f\"Are you sure you want to delete task '{selected_task['name']}' (yes/no)? \").lower()\n",
    "        \n",
    "        if confirmation == 'yes':\n",
    "            # Delete the task and update workload\n",
    "            member[\"workload\"] -= selected_task[\"workload\"]\n",
    "            del member[\"tasks\"][task_index]\n",
    "            print(f\"Deleted task '{selected_task['name']}' from {member['name']}.\")\n",
    "\n",
    "\n",
    "            team_workload = calculate_team_workload(team)\n",
    "            team_capacity = calculate_team_capacity(team)\n",
    "            #add team remianing capacity\n",
    "            #add team reminaing capacitty\n",
    "            team_remaining_capcity = calculate_remaining_team_capacity(team)\n",
    "            \n",
    "            #print(f\"Added task '{task_name}' with workload {task_workload} to {team[member_id]['name']}.\")\n",
    "            print(f\"Team workload is {team_workload}\")\n",
    "            print(f\"Maximum team capacity is  {team_capacity}\")\n",
    "            print(f\"Team remaining capacity has been updated to {team_remaining_capcity}\")\n",
    "        else:\n",
    "            print(\"Task deletion canceled.\")\n",
    "    else:\n",
    "        print(f\"Member ID {member_id} not found.\")\n"
   ]
  },
  {
   "cell_type": "code",
   "execution_count": 172,
   "metadata": {},
   "outputs": [
    {
     "name": "stdout",
     "output_type": "stream",
     "text": [
      "Tasks for Ferzi (ID: 1001):\n",
      "1: Task name : Task A, Workload : 2\n",
      "2: Task name : Task B, Workload : 3\n",
      "Task number is not found.\n"
     ]
    }
   ],
   "source": [
    "delete_task(team_1,'1001')"
   ]
  },
  {
   "cell_type": "code",
   "execution_count": 173,
   "metadata": {},
   "outputs": [],
   "source": [
    "# Delete a team member with confirmation\n",
    "def delete_team_member(team, member_id):\n",
    "    if member_id in team:\n",
    "        # Display member information and ask for confirmation\n",
    "        print(f\"Member found: {team[member_id]['name']} (ID: {member_id})\")\n",
    "        #input proceed to cancle and the input from user will be change to lower case\n",
    "        confirmation = input(f\"Are you sure you want to delete {team[member_id]['name']} (ID: {member_id})? (yes/no): \").lower()\n",
    "\n",
    "        if confirmation == 'yes':\n",
    "            del team[member_id]\n",
    "            print(f\"Team member with ID {member_id} is deleted.\")\n",
    "            team_workload = calculate_team_workload(team)\n",
    "            team_capacity = calculate_team_capacity(team)\n",
    "            #add team remianing capacity\n",
    "            #add team reminaing capacitty\n",
    "            team_remaining_capcity = calculate_remaining_team_capacity(team)\n",
    "            #print(f\"Added task '{task_name}' with workload {task_workload} to {team[member_id]['name']}.\")\n",
    "            print(f\"Team workload is {team_workload}\")\n",
    "            print(f\"Maximum team capacity is  {team_capacity}\")\n",
    "            print(f\"Team remaining capacity has been updated to {team_remaining_capcity}\")\n",
    "        else:\n",
    "            print(\"Delete canceled.\")\n",
    "    else:\n",
    "        print(f\"Member ID {member_id} not exist or not foundd.\")\n"
   ]
  },
  {
   "cell_type": "code",
   "execution_count": 114,
   "metadata": {},
   "outputs": [
    {
     "name": "stdout",
     "output_type": "stream",
     "text": [
      "Member found: Theresia (ID: 1004)\n",
      "Deleted team member with ID 1004.\n",
      "Team workload is 13\n",
      "Maximum team capacity is  37\n",
      "Team remaining capacity has been updated to 24\n"
     ]
    }
   ],
   "source": [
    "delete_team_member(team_1, '1004')"
   ]
  },
  {
   "cell_type": "code",
   "execution_count": 143,
   "metadata": {},
   "outputs": [
    {
     "name": "stdout",
     "output_type": "stream",
     "text": [
      "+------------+----------+-----------+---------+---------+--------------------\n",
      "| Member ID  | Name     | Workload | Tasks    |Capacity |Remaining Capacity |\n",
      "+------------+----------+-----------+---------+---------+--------------------\n",
      "| 1001       | Ferzi    | 5        | 6        |15       |10                 |\n",
      "| 1002       | Aries    | 8        | 1        |10       |2                  |\n",
      "| 1003       | Rifqi    | 0        | 0        |12       |12                 |\n",
      "| 1004       | There    | 5        | 1        |12       |7                  |\n",
      "+------------+----------+-----------+---------+---------+--------------------\n"
     ]
    }
   ],
   "source": [
    "show_tabulate_team(team_1)\n"
   ]
  },
  {
   "cell_type": "code",
   "execution_count": 194,
   "metadata": {},
   "outputs": [],
   "source": [
    "# Dummy data for redistributed task\n",
    "team_1a = {\n",
    "    \"1001\": {\"name\": \"Ferzi\", \"workload\": 28, \"tasks\": [{\"name\": \"Task A\", \"workload\": 2}, {\"name\": \"Task B\", \"workload\": 3},{\"name\": \"Task D\", \"workload\": 4},{\"name\": \"Task E\", \"workload\": 5},{\"name\": \"Task F\", \"workload\": 6},{\"name\": \"Task G\", \"workload\": 8}], \"capacity\": 15, \"remaining_capacity\":-13 },\n",
    "    \"1002\": {\"name\": \"Aries\", \"workload\": 8, \"tasks\": [{\"name\": \"Task C\", \"workload\": 8},], \"capacity\": 10,\"remaining_capacity\":2},\n",
    "    \"1003\": {\"name\": \"Rifqi\", \"workload\": 0, \"tasks\": [], \"capacity\": 12,\"remaining_capacity\":12},\n",
    "    \"1004 \": {\"name\": \"There\", \"workload\": 5, \"tasks\": [{\"name\": \"Task K\", \"workload\": 5}], \"capacity\": 12,\"remaining_capacity\":7}\n",
    "}\n",
    "\n",
    "team_2a = {\n",
    "    \"2001\": {\"name\": \"Adit\", \"workload\": 7, \"tasks\": [{\"name\": \"Task X\", \"workload\": 3},{\"name\": \"Task Y\", \"workload\": 4}], \"capacity\": 20,\"remaining_capacity\":13},\n",
    "    \"2002\": {\"name\": \"Valen\", \"workload\": 6, \"tasks\": [{\"name\": \"Task Z\", \"workload\": 6}], \"capacity\": 15,\"remaining_capacity\":9},\n",
    "    \"2003\": {\"name\": \"Edo\", \"workload\": 3, \"tasks\": [{\"name\": \"Task Q\", \"workload\": 3}], \"capacity\": 18,\"remaining_capacity\":15}\n",
    "}"
   ]
  },
  {
   "cell_type": "code",
   "execution_count": 203,
   "metadata": {},
   "outputs": [
    {
     "ename": "NameError",
     "evalue": "name 'val' is not defined",
     "output_type": "error",
     "traceback": [
      "\u001b[0;31m---------------------------------------------------------------------------\u001b[0m",
      "\u001b[0;31mNameError\u001b[0m                                 Traceback (most recent call last)",
      "Cell \u001b[0;32mIn[203], line 1\u001b[0m\n\u001b[0;32m----> 1\u001b[0m \u001b[38;5;28mprint\u001b[39m(\u001b[38;5;28msum\u001b[39m(\u001b[43mval\u001b[49m[\u001b[38;5;124m\"\u001b[39m\u001b[38;5;124mtasks\u001b[39m\u001b[38;5;124m\"\u001b[39m]))\n",
      "\u001b[0;31mNameError\u001b[0m: name 'val' is not defined"
     ]
    }
   ],
   "source": [
    "print(sum(val[\"tasks\"]))"
   ]
  },
  {
   "cell_type": "code",
   "execution_count": 204,
   "metadata": {},
   "outputs": [
    {
     "name": "stdout",
     "output_type": "stream",
     "text": [
      "+------------+----------+-----------+---------+---------+--------------------\n",
      "| Member ID  | Name     | Workload | Tasks    |Capacity |Remaining Capacity |\n",
      "+------------+----------+-----------+---------+---------+--------------------\n",
      "| 1001       | Ferzi    | 14       | 2        |15       |1                  |\n",
      "| 1002       | Aries    | 8        | 1        |10       |2                  |\n",
      "| 1003       | Rifqi    | 14       | 4        |12       |-2                 |\n",
      "| 1004       | There    | 5        | 1        |12       |7                  |\n",
      "+------------+----------+-----------+---------+---------+--------------------\n"
     ]
    }
   ],
   "source": [
    "show_tabulate_team(team_1a)"
   ]
  },
  {
   "cell_type": "code",
   "execution_count": 205,
   "metadata": {},
   "outputs": [],
   "source": [
    "# Automaticaly Redistribute tasks from one member to another\n",
    "# Redistribute tasks based on team capacity\n",
    "def redistribute_tasks_across_member(team):\n",
    "    # find overcapcity menmber\n",
    "    over_capacity_members = [member for member in team.values() if member[\"workload\"] > member[\"capacity\"]]\n",
    "    #find undercapacity member\n",
    "    under_capacity_members = [member for member in team.values() if member[\"workload\"] < member[\"capacity\"]]\n",
    "\n",
    "    # Sorting over_capacity_members by most over capacity and under_capacity_members by most available capacity\n",
    "    over_capacity_members.sort(key=lambda x: x[\"workload\"] - x[\"capacity\"], reverse=True)\n",
    "\n",
    "    under_capacity_members.sort(key=lambda x: x[\"remaining_capacity\"], reverse=True)\n",
    "\n",
    "    for over_member in over_capacity_members:\n",
    "        while over_member[\"workload\"] > over_member[\"capacity\"] and under_capacity_members:\n",
    "            # Pick the first under-capacity member (who has the most remaining capacity)\n",
    "            under_member = under_capacity_members[0]\n",
    "            task_to_transfer = over_member[\"tasks\"].pop(0)  # Transfer the first task from the overburdened member\n",
    "            \n",
    "            # Update the workload and capacity of both members\n",
    "            over_member[\"workload\"] -= task_to_transfer[\"workload\"]\n",
    "            under_member[\"tasks\"].append(task_to_transfer)\n",
    "            under_member[\"workload\"] += task_to_transfer[\"workload\"]\n",
    "\n",
    "            # Update remaining capacities\n",
    "            over_member[\"remaining_capacity\"] = over_member[\"capacity\"] - over_member[\"workload\"]\n",
    "            under_member[\"remaining_capacity\"] = under_member[\"capacity\"] - under_member[\"workload\"]\n",
    "\n",
    "            # If the under_capacity member is now at capacity, remove them from the list\n",
    "            if under_member[\"workload\"] >= under_member[\"capacity\"]:\n",
    "                under_capacity_members.pop(0)\n",
    "    \n",
    "    print(\"Tasks have been redistributed based on member capacities.\")\n",
    "\n",
    "    team_workload = calculate_team_workload(team)\n",
    "    team_capacity = calculate_team_capacity(team)\n",
    "    #add team remianing capacity\n",
    "    #add team reminaing capacitty\n",
    "    team_remaining_capcity = calculate_remaining_team_capacity(team)\n",
    "#print(f\"Added task '{task_name}' with workload {task_workload} to {team[member_id]['name']}.\")\n",
    "    print(f\"Team workload is {team_workload}\")\n",
    "    print(f\"Maximum team capacity is  {team_capacity}\")\n",
    "    print(f\"Team remaining capacity has been updated to {team_remaining_capcity}\")\n",
    "\n",
    "# 0----------define how to calculate remaning capacity\n",
    "#def calculate_remaining_capacity(member):\n",
    "#    return member[\"capacity\"] - member[\"workload\"]\n",
    "\n"
   ]
  },
  {
   "cell_type": "code",
   "execution_count": 206,
   "metadata": {},
   "outputs": [
    {
     "name": "stdout",
     "output_type": "stream",
     "text": [
      "{'1001': {'name': 'Ferzi', 'workload': 14, 'tasks': [{'name': 'Task F', 'workload': 6}, {'name': 'Task G', 'workload': 8}], 'capacity': 15, 'remaining_capacity': 1}, '1002': {'name': 'Aries', 'workload': 8, 'tasks': [{'name': 'Task C', 'workload': 8}], 'capacity': 10, 'remaining_capacity': 2}, '1003': {'name': 'Rifqi', 'workload': 14, 'tasks': [{'name': 'Task A', 'workload': 2}, {'name': 'Task B', 'workload': 3}, {'name': 'Task D', 'workload': 4}, {'name': 'Task E', 'workload': 5}], 'capacity': 12, 'remaining_capacity': -2}, '1004 ': {'name': 'There', 'workload': 5, 'tasks': [{'name': 'Task K', 'workload': 5}], 'capacity': 12, 'remaining_capacity': 7}}\n"
     ]
    }
   ],
   "source": [
    "print(team_1a)"
   ]
  },
  {
   "cell_type": "code",
   "execution_count": 207,
   "metadata": {},
   "outputs": [
    {
     "name": "stdout",
     "output_type": "stream",
     "text": [
      "Tasks have been redistributed based on member capacities.\n",
      "Team workload is 41\n",
      "Maximum team capacity is  49\n",
      "Team remaining capacity has been updated to 8\n"
     ]
    }
   ],
   "source": [
    "redistribute_tasks_across_member(team_1a)"
   ]
  },
  {
   "cell_type": "code",
   "execution_count": 209,
   "metadata": {},
   "outputs": [
    {
     "name": "stdout",
     "output_type": "stream",
     "text": [
      "+------------+----------+-----------+---------+---------+--------------------\n",
      "| Member ID  | Name     | Workload | Tasks    |Capacity |Remaining Capacity |\n",
      "+------------+----------+-----------+---------+---------+--------------------\n",
      "| 1001       | Ferzi    | 14       | 2        |15       |1                  |\n",
      "| 1002       | Aries    | 8        | 1        |10       |2                  |\n",
      "| 1003       | Rifqi    | 12       | 3        |12       |0                  |\n",
      "| 1004       | There    | 7        | 2        |12       |5                  |\n",
      "+------------+----------+-----------+---------+---------+--------------------\n"
     ]
    }
   ],
   "source": [
    "show_tabulate_team(team_1a)"
   ]
  },
  {
   "cell_type": "code",
   "execution_count": null,
   "metadata": {},
   "outputs": [],
   "source": []
  },
  {
   "cell_type": "code",
   "execution_count": 146,
   "metadata": {},
   "outputs": [
    {
     "name": "stdout",
     "output_type": "stream",
     "text": [
      "+------------+----------+-----------+---------+---------+--------------------\n",
      "| Member ID  | Name     | Workload | Tasks    |Capacity |Remaining Capacity |\n",
      "+------------+----------+-----------+---------+---------+--------------------\n",
      "| 1001       | Ferzi    | 5        | 6        |15       |10                 |\n",
      "| 1002       | Aries    | 8        | 1        |10       |2                  |\n",
      "| 1003       | Rifqi    | 0        | 0        |12       |12                 |\n",
      "| 1004       | There    | 5        | 1        |12       |7                  |\n",
      "+------------+----------+-----------+---------+---------+--------------------\n"
     ]
    }
   ],
   "source": [
    "def show_tabulate_team2(team):\n",
    "    print('+------------+----------+-----------+---------+---------+--------------------')\n",
    "    print('| {:<10} | {:<8} | {:<8} | {:<8} |{:<8} |{:<12} |'.format('Member ID','Name', 'Workload', 'Tasks', 'Capacity','Remaining Capacity'))\n",
    "    print('+------------+----------+-----------+---------+---------+--------------------')\n",
    "\n",
    "    # Print each data item.\n",
    "    for member, val in team.items():\n",
    "        print('| {:<10} | {:<8} | {:<8} | {:<8} |{:<8} |{:<18} |'.format(member,val[\"name\"], val[\"workload\"], len(val[\"tasks\"]), val[\"capacity\"], val[\"remaining_capacity\"]))\n",
    "\n",
    "    # Print the footer\n",
    "    print('+------------+----------+-----------+---------+---------+--------------------')\n",
    "    return\n",
    "\n",
    "#show_tabulate_team(team_2)\n",
    "show_tabulate_team2(team_1a)"
   ]
  },
  {
   "cell_type": "code",
   "execution_count": 177,
   "metadata": {},
   "outputs": [],
   "source": [
    "def display_team_member_capacity(team):\n",
    "    # Calculate team capacity and workload\n",
    "    team_capacity = calculate_team_capacity(team)\n",
    "    team_workload = calculate_team_workload(team)\n",
    "    team_remaining_capcity = calculate_remaining_team_capacity(team)\n",
    "\n",
    "    # Display team workload and capacity\n",
    "    print(f\"{team} Workload: {team_workload} , Maximum team capacity : {team_capacity}, Reaminig Capacity : {team_remaining_capcity}\")\n",
    "\n",
    "    # Choice for sorting or filtering choice\n",
    "    print(\"Choose an option to sort of filter members:\")\n",
    "    print(\"1. Sort by workload (highest to lowest)\")\n",
    "    print(\"2. Sort by workload (lowest to highest)\")\n",
    "    print(\"3. Filter members with no tasks\")\n",
    "\n",
    "\n",
    "    choice = input(\"Enter your choice (1, 2, or 3): \")\n",
    "\n",
    "    # Sort or filter based on user input\n",
    "    if choice == \"1\":\n",
    "        # To sort by workload (from highest to lowest)\n",
    "        members = sorted(team.items(), key=lambda x: x[1][\"workload\"], reverse=True)\n",
    "\n",
    "    elif choice == \"2\":\n",
    "        # To sort by workload from lowest to highest\n",
    "        members = sorted(team.items(), key=lambda x: x[1][\"workload\"], reverse=False)\n",
    "        \n",
    "    elif choice == \"3\":\n",
    "        # Filter members with no tasks\n",
    "        members = [(member_id, member) for member_id, member in team.items() if not member[\"tasks\"]]\n",
    "    else:\n",
    "        print(\"Invalid choice please choose .\")\n",
    "        return\n",
    "\n",
    "    # Display sorted/filtered team members\n",
    "    print('+------------+----------+-----------+---------+---------+--------------------')\n",
    "    print('| {:<10} | {:<8} | {:<8} | {:<8} |{:<8} |{:<18} |'.format('Member ID', 'Name', 'Workload', 'Tasks', 'Capacity', 'Remaining Capacity'))\n",
    "    print('+------------+----------+-----------+---------+---------+--------------------')\n",
    "\n",
    "    # Print each member's data\n",
    "    for member_id, member in members:\n",
    "        tasks_count = len(member['tasks'])\n",
    "        print('| {:<10} | {:<8} | {:<8} | {:<8} |{:<8} |{:<18} |'.format(\n",
    "            member_id, member[\"name\"], member[\"workload\"], tasks_count, member[\"capacity\"], member[\"remaining_capacity\"]\n",
    "        ))\n",
    "\n",
    "    print('+------------+----------+-----------+---------+---------+--------------------')\n",
    "\n"
   ]
  },
  {
   "cell_type": "code",
   "execution_count": 178,
   "metadata": {},
   "outputs": [
    {
     "name": "stdout",
     "output_type": "stream",
     "text": [
      "{'1001': {'name': 'Ferzi', 'workload': 5, 'tasks': [{'name': 'Task A', 'workload': 2}, {'name': 'Task B', 'workload': 3}, {'name': 'Task D', 'workload': 4}, {'name': 'Task E', 'workload': 5}, {'name': 'Task F', 'workload': 6}, {'name': 'Task G', 'workload': 8}], 'capacity': 15, 'remaining_capacity': 10}, '1002': {'name': 'Aries', 'workload': 8, 'tasks': [{'name': 'Task C', 'workload': 8}], 'capacity': 10, 'remaining_capacity': 2}, '1003': {'name': 'Rifqi', 'workload': 0, 'tasks': [], 'capacity': 12, 'remaining_capacity': 12}, '1004 ': {'name': 'There', 'workload': 5, 'tasks': [{'name': 'Task K', 'workload': 5}], 'capacity': 12, 'remaining_capacity': 7}} Workload: 18 , Maximum team capacity : 49, Reaminig Capacity : 31\n",
      "Choose an option to sort of filter members:\n",
      "1. Sort by workload (highest to lowest)\n",
      "2. Sort by workload (lowest to highest)\n",
      "3. Filter members with no tasks\n",
      "Invalid choice please choose .\n"
     ]
    }
   ],
   "source": [
    "display_team_member_capacity(team_1a)"
   ]
  },
  {
   "cell_type": "code",
   "execution_count": 152,
   "metadata": {},
   "outputs": [
    {
     "name": "stdout",
     "output_type": "stream",
     "text": [
      "+------------+----------+-----------+---------+---------+--------------------\n",
      "| Member ID  | Name     | Workload | Tasks    |Capacity |Remaining Capacity |\n",
      "+------------+----------+-----------+---------+---------+--------------------\n",
      "| 1001       | Ferzi    | 5        | 6        |15       |10                 |\n",
      "| 1002       | Aries    | 8        | 1        |10       |2                  |\n",
      "| 1003       | Rifqi    | 0        | 0        |12       |12                 |\n",
      "| 1004       | There    | 5        | 1        |12       |7                  |\n",
      "+------------+----------+-----------+---------+---------+--------------------\n"
     ]
    }
   ],
   "source": [
    "show_tabulate_team(team_1a)"
   ]
  },
  {
   "cell_type": "code",
   "execution_count": 179,
   "metadata": {},
   "outputs": [],
   "source": [
    "def main():\n",
    "    while True:\n",
    "        #print option menu\n",
    "        print(\"1. Add Team Member\")\n",
    "        print(\"2. Add Task\")\n",
    "        print(\"3. Redistribute Tasks\")\n",
    "        print(\"4. Display Member \")\n",
    "        print(\"5. Delete Team Member\")\n",
    "        print(\"6. Delete Task\")\n",
    "        print(\"7. Update Task\")\n",
    "        print(\"0. Exit\")\n",
    "        choice = input(\"Select menu that you want to choose: \")\n",
    "        \n",
    "        if choice == \"1\":\n",
    "            team_choice = input(\"Select Team (1/2): \")\n",
    "            if team_choice == \"1\":\n",
    "                add_team_member(team_1)\n",
    "                show_tabulate_team(team_1)\n",
    "            elif team_choice == \"2\":\n",
    "                add_team_member(team_2)\n",
    "                show_tabulate_team(team_2)\n",
    "\n",
    "        elif choice == \"2\":\n",
    "            team_choice = input(\"Select Team (1/2): \")\n",
    "            member_id = input(\"Enter Member ID : \")\n",
    "            task_name = input(\"Enter Task Name : \")\n",
    "            task_workload = input(\"Enter Task Workload : \")\n",
    "            if team_choice == \"1\":\n",
    "                add_task(team_1, member_id, task_name, task_workload)\n",
    "                show_tabulate_team(team_1)\n",
    "            elif team_choice == \"2\":\n",
    "                add_task(team_1, member_id, task_name, task_workload)\n",
    "                show_tabulate_team(team_2)\n",
    "\n",
    "        elif choice == \"3\":\n",
    "            team_choice = input(\"Select Team (1/2): \")\n",
    "            if team_choice == \"1\":\n",
    "                redistribute_tasks_across_member(team_1)\n",
    "            elif team_choice == \"2\":\n",
    "                redistribute_tasks_across_member(team_2)\n",
    "\n",
    "        elif choice == \"4\":\n",
    "            team_choice = input(\"Select Team (1/2): \")\n",
    "            if team_choice == \"1\":\n",
    "                display_team_member_capacity(team_1)\n",
    "            elif team_choice == \"2\":\n",
    "                display_team_member_capacity(team_1)\n",
    "\n",
    "        elif choice == \"5\":\n",
    "            team_choice = input(\"Select Team (1/2): \")\n",
    "            member_id = input(\"Enter Member ID : \")\n",
    "            if team_choice == \"1\":\n",
    "                delete_team_member(team_1, member_id)\n",
    "            elif team_choice == \"2\":\n",
    "                delete_team_member(team_1, member_id)\n",
    "\n",
    "        elif choice == \"6\":\n",
    "            team_choice = input(\"Select Team (1/2): \")\n",
    "            member_id = input(\"Enter Member ID : \")\n",
    "            if team_choice == \"1\":\n",
    "                delete_task(team_2, member_id)\n",
    "            elif team_choice == \"2\":\n",
    "                delete_task(team_2, member_id)\n",
    "                \n",
    "        elif choice == \"7\":\n",
    "            team_choice = input(\"Select Team (1/2): \")\n",
    "            member_id = input(\"Enter Member ID : \")\n",
    "            if team_choice == \"1\":\n",
    "                update_task(team_1, member_id)\n",
    "                #update_task(team_1)\n",
    "            elif team_choice == \"2\":\n",
    "                update_task(team_1, member_id)\n",
    "        elif choice == \"0\":\n",
    "            break\n",
    "        else:\n",
    "            print(\"Invalid option, please choose 0-7.\\n\")"
   ]
  },
  {
   "cell_type": "code",
   "execution_count": 164,
   "metadata": {},
   "outputs": [
    {
     "name": "stdout",
     "output_type": "stream",
     "text": [
      "1. Add Team Member\n",
      "2. Add Task\n",
      "3. Redistribute Tasks\n",
      "4. Display Team Capacity Overview\n",
      "5. Delete Team Member\n",
      "6. Delete Task\n",
      "7. Update Task\n",
      "0. Exit\n",
      "Invalid option, please choose 0-7.\n",
      "\n",
      "1. Add Team Member\n",
      "2. Add Task\n",
      "3. Redistribute Tasks\n",
      "4. Display Team Capacity Overview\n",
      "5. Delete Team Member\n",
      "6. Delete Task\n",
      "7. Update Task\n",
      "0. Exit\n"
     ]
    }
   ],
   "source": [
    "main()"
   ]
  },
  {
   "cell_type": "code",
   "execution_count": 11,
   "metadata": {},
   "outputs": [
    {
     "ename": "NameError",
     "evalue": "name 'team_workload' is not defined",
     "output_type": "error",
     "traceback": [
      "\u001b[0;31m---------------------------------------------------------------------------\u001b[0m",
      "\u001b[0;31mNameError\u001b[0m                                 Traceback (most recent call last)",
      "Cell \u001b[0;32mIn[11], line 1\u001b[0m\n\u001b[0;32m----> 1\u001b[0m \u001b[38;5;28mprint\u001b[39m(\u001b[38;5;28mtype\u001b[39m(\u001b[43mteam_workload\u001b[49m))\n",
      "\u001b[0;31mNameError\u001b[0m: name 'team_workload' is not defined"
     ]
    }
   ],
   "source": [
    "#print(type(team_workload))"
   ]
  }
 ],
 "metadata": {
  "kernelspec": {
   "display_name": "Python 3",
   "language": "python",
   "name": "python3"
  },
  "language_info": {
   "codemirror_mode": {
    "name": "ipython",
    "version": 3
   },
   "file_extension": ".py",
   "mimetype": "text/x-python",
   "name": "python",
   "nbconvert_exporter": "python",
   "pygments_lexer": "ipython3",
   "version": "3.12.5"
  }
 },
 "nbformat": 4,
 "nbformat_minor": 2
}
